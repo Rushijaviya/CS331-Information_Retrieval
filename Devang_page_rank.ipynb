{
  "nbformat": 4,
  "nbformat_minor": 0,
  "metadata": {
    "colab": {
      "name": "Devang_page_rank.ipynb",
      "provenance": [],
      "collapsed_sections": []
    },
    "interpreter": {
      "hash": "f6ded70b5f8aa8407f55bb1c43ddf4e5d98b0bc63670828ce9dd250cac8c801b"
    },
    "kernelspec": {
      "display_name": "Python 3.9.6 64-bit",
      "name": "python3"
    },
    "language_info": {
      "codemirror_mode": {
        "name": "ipython",
        "version": 3
      },
      "file_extension": ".py",
      "mimetype": "text/x-python",
      "name": "python",
      "nbconvert_exporter": "python",
      "pygments_lexer": "ipython3",
      "version": "3.9.6"
    }
  },
  "cells": [
    {
      "cell_type": "code",
      "metadata": {
        "id": "AtKFLtV-RMyG"
      },
      "source": [
        "\n",
        "import numpy as np\n",
        "from scipy.sparse import dok_matrix\n",
        "import networkx as nx"
      ],
      "execution_count": null,
      "outputs": []
    },
    {
      "cell_type": "markdown",
      "metadata": {
        "id": "TrQm7_Z8pt3F"
      },
      "source": [
        "PageRank works by counting the number and quality of links to a page to determine a rough estimate of how important the website is. The underlying assumption is that more important websites are likely to receive more links from other websites.\n"
      ]
    },
    {
      "cell_type": "markdown",
      "metadata": {
        "id": "1kqDiAc3K8MX"
      },
      "source": [
        "![image.png](data:image/png;base64,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)"
      ]
    },
    {
      "cell_type": "code",
      "metadata": {
        "id": "fV-kP9Dcrfic"
      },
      "source": [
        "A = np.array([\n",
        "  [0, 0, 1, 1],\n",
        "  [1, 0, 0, 0],\n",
        "  [1, 1, 0, 1],\n",
        "  [1, 1, 0, 0],\n",
        "])\n",
        "A = A/np.sum(A, axis=0)\n",
        "v = np.array([1, 1, 1, 1])\n",
        "v = v/np.sum(v)\n",
        "v = v.reshape((4, 1))\n",
        "A"
      ],
      "execution_count": null,
      "outputs": []
    },
    {
      "cell_type": "code",
      "metadata": {
        "id": "02YXCk7rfb3w"
      },
      "source": [
        "G = nx.DiGraph()\n",
        "for ii, i in enumerate(A):\n",
        "  for jj, j in enumerate(i):\n",
        "    if j>0:\n",
        "      G.add_edge(ii, jj, weight=j)\n",
        "nx.draw(G, with_labels=True)   "
      ],
      "execution_count": null,
      "outputs": []
    },
    {
      "cell_type": "code",
      "metadata": {
        "id": "XR_JVippsA06"
      },
      "source": [
        "v = [0.25, 0.25, 0.25, 0.25]\n",
        "while True:\n",
        "  new_v = A @ v\n",
        "  if np.allclose(new_v, v):\n",
        "    break\n",
        "  v = new_v\n",
        "v"
      ],
      "execution_count": null,
      "outputs": []
    },
    {
      "cell_type": "code",
      "metadata": {
        "id": "V4ElpuQ8Bd3p"
      },
      "source": [
        "A = np.array([\n",
        "  [0, 0, 1, 1],\n",
        "  [1, 0, 0, 0],\n",
        "  [1, 1, 0, 1],\n",
        "  [1, 1, 0, 0],\n",
        "])\n",
        "D = np.linalg.inv(np.diag([3, 2, 1, 2]))\n",
        "H = A @ D\n",
        "# A @ D\n",
        "v = np.array([1, 1, 1, 1])\n",
        "N = len(v)\n",
        "v = v/np.sum(v)\n",
        "damping_factor = 0.85\n",
        "iters = 0\n",
        "while True:\n",
        "  new_v = damping_factor * (H @ v) + (1-damping_factor)/N\n",
        "  # print(new_v)\n",
        "  iters+=1\n",
        "  if np.allclose(new_v, v):\n",
        "    break\n",
        "  v = new_v\n",
        "iters, v"
      ],
      "execution_count": null,
      "outputs": []
    },
    {
      "cell_type": "code",
      "metadata": {
        "id": "-6fb5SU_Q8ZH"
      },
      "source": [
        "# now for the big file\n",
        "G = nx.DiGraph()\n",
        "dims = 281903\n",
        "sparce_matrix = dok_matrix((dims, dims), dtype=np.float32)\n",
        "D = np.zeros(dims)\n",
        "with open('web-Stanford.txt', 'r') as f:\n",
        "  # skipping first 4 comments, can be done by putting condition of '#' but why check thousand times!\n",
        "  for i in range(4):\n",
        "    next(f)\n",
        "  for i in f:\n",
        "    start_node, end_node = list(map(int, i.split()))\n",
        "    G.add_edge(start_node, end_node)\n",
        "    D[start_node-1] = D[start_node-1] + 1\n",
        "with open('web-Stanford.txt', 'r') as f:\n",
        "  # skipping first 4 comments, can be done by putting condition of '#' but why check thousand times!\n",
        "  for i in range(4):\n",
        "    next(f)\n",
        "  for i in f:\n",
        "    start_node, end_node = list(map(int, i.split()))\n",
        "    sparce_matrix[start_node-1, end_node-1] = 1/D[start_node-1]\n",
        "sparce_matrix = sparce_matrix.tocsr()"
      ],
      "execution_count": null,
      "outputs": []
    },
    {
      "cell_type": "code",
      "metadata": {
        "id": "uS8izrfJg_jQ"
      },
      "source": [
        "nx.draw(G, with_labels=True)   "
      ],
      "execution_count": null,
      "outputs": []
    },
    {
      "cell_type": "code",
      "metadata": {
        "id": "uET0F4o-WLib"
      },
      "source": [
        "def get_ranks(H, v, N, dangling_factor=0.85):\n",
        "  iters = 0\n",
        "  while True:\n",
        "    new_v = dangling_factor * (H @ v) + (1-dangling_factor)/N\n",
        "    # print(new_v)\n",
        "    iters+=1\n",
        "    if np.allclose(new_v, v):\n",
        "      break\n",
        "    v = new_v\n",
        "  print(iters)\n",
        "  print(v)\n",
        "  return v\n",
        "v = np.ones(dims)/dims\n",
        "z = get_ranks(sparce_matrix, v, dims)"
      ],
      "execution_count": null,
      "outputs": []
    },
    {
      "cell_type": "code",
      "metadata": {
        "id": "DBq6-6i2wjST"
      },
      "source": [
        "np.sum(z)"
      ],
      "execution_count": null,
      "outputs": []
    }
  ]
}