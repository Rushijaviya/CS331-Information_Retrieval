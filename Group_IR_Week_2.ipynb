{
  "nbformat": 4,
  "nbformat_minor": 0,
  "metadata": {
    "colab": {
      "name": "Group_IR_Week_2.ipynb",
      "provenance": [],
      "collapsed_sections": []
    },
    "kernelspec": {
      "display_name": "Python 3",
      "name": "python3"
    },
    "language_info": {
      "name": "python"
    }
  },
  "cells": [
    {
      "cell_type": "code",
      "metadata": {
        "id": "PSlkZzhLGebv"
      },
      "source": [
        "from google.colab import drive\n",
        "from nltk.corpus import stopwords\n",
        "import nltk\n",
        "from collections import defaultdict\n",
        "import re\n",
        "from nltk.stem.porter import PorterStemmer\n",
        "import heapq\n",
        "import json\n",
        "import gc\n",
        "porter = PorterStemmer()"
      ],
      "execution_count": null,
      "outputs": []
    },
    {
      "cell_type": "code",
      "metadata": {
        "id": "stHYaFBpENsf"
      },
      "source": [
        "nltk.download('stopwords')\n",
        "stop_words = stopwords.words('english')"
      ],
      "execution_count": null,
      "outputs": []
    },
    {
      "cell_type": "code",
      "metadata": {
        "id": "Al4rdmAUE6oj"
      },
      "source": [
        "def remove_symbols(line):\n",
        "    return re.sub('[^A-Za-z0-9\\s]+', '', line).lower()\n",
        "\n",
        "\"\"\"\n",
        "we are using this to change list into set while dumping json into file\n",
        "\"\"\"\n",
        "class SetEncoder(json.JSONEncoder):\n",
        "  def default(self, obj):\n",
        "    if isinstance(obj, set):\n",
        "      return list(obj)\n",
        "    return json.JSONEncoder.default(self, obj)"
      ],
      "execution_count": null,
      "outputs": []
    },
    {
      "cell_type": "code",
      "metadata": {
        "id": "eiZ2_qZuEJwW"
      },
      "source": [
        "drive.mount('/content/drive')"
      ],
      "execution_count": null,
      "outputs": []
    },
    {
      "cell_type": "code",
      "metadata": {
        "id": "NVk2JeWRNJhY"
      },
      "source": [
        "import csv\n",
        "import sys\n",
        "csv.field_size_limit(sys.maxsize) # if we don't do this, we won't be able to read whole line ( try to comment this line for action )"
      ],
      "execution_count": null,
      "outputs": []
    },
    {
      "cell_type": "code",
      "metadata": {
        "id": "XocaVajrH4PV"
      },
      "source": [
        "# going to our folder\n",
        "% cd /content/drive/MyDrive/nlp\n",
        "% ls\n",
        "\n",
        "# % rm -rf OP*"
      ],
      "execution_count": null,
      "outputs": []
    },
    {
      "cell_type": "code",
      "metadata": {
        "id": "lT0o8UKsKCN1"
      },
      "source": [
        "# % ls # just to confirm and see if we have file\n",
        "#  gutenberg_data.csv => has 15331 LINES\n",
        "# BLOCK_SIZE = 10000000\n",
        "BLOCK_SIZE = 100000 # 1 time around 18 secs, TOTAL TIME TAKEN => 4h25m20s"
      ],
      "execution_count": null,
      "outputs": []
    },
    {
      "cell_type": "code",
      "metadata": {
        "id": "ZtaY5p9pIutg"
      },
      "source": [
        "def bsbi():\n",
        "  freq_dict = defaultdict(set)\n",
        "  with open('gutenberg_data.csv') as f:\n",
        "    next(f) # just skipping first line(column headers)\n",
        "    csv_file = csv.reader(f)\n",
        "    total_files = 0\n",
        "    i = 0\n",
        "    current_block = 0\n",
        "    for line in csv_file:\n",
        "      title, author, link, id, bookshelf, text = line\n",
        "      # print(id,\" => \" ,author)\n",
        "      i += 1\n",
        "      # for testing \n",
        "      # if i == 2:\n",
        "      #   break\n",
        "      for word in text.split():\n",
        "        word = remove_symbols(word)\n",
        "        if word and word not in stop_words:\n",
        "          word = porter.stem(word)\n",
        "          if word not in freq_dict:\n",
        "            # if word is not added before, we will increase block size too\n",
        "            current_block += 1\n",
        "          \"\"\"\n",
        "          note: __contains__ will just check if doc is already there.\n",
        "          It's not exactly needed as we are using set, but we are checking it to manage block size\n",
        "          also searching in sets is faster as they are hashed (while lists are not hashed)\n",
        "          \"\"\"\n",
        "          if not freq_dict[word].__contains__(id):\n",
        "            freq_dict[word].add(id)\n",
        "            current_block += 1\n",
        "        if current_block >= BLOCK_SIZE:\n",
        "          # LETS DO THE WRITE OPERATION\n",
        "          sorted_list = sorted(freq_dict.items(), key=lambda _: _[0]) # sorting by word_id\n",
        "          with open(f'./IROUTPUTS_v2/OP{total_files}.txt', 'w') as  f:\n",
        "            # json.dump(freq_dict, f, cls=SetEncoder)\n",
        "            for word_id, docs in sorted_list:\n",
        "              f.write(word_id)\n",
        "              for doc_id in docs:\n",
        "                f.write(f' {doc_id}')\n",
        "              f.write('\\n')\n",
        "          current_block = 0\n",
        "          freq_dict.clear()\n",
        "          total_files += 1\n",
        "          print(i, ' rows done')\n",
        "          # if total_files == 2:\n",
        "          #   return\n",
        "      \n",
        "    sorted_list = sorted(freq_dict.items(), key=lambda _: _[0]) # sorting by word_id\n",
        "    # this is for last values\n",
        "    # TODO:: DO IT BY FN SO NO REPEATATION OF CODE\n",
        "    if len(sorted_list) > 0:\n",
        "      with open(f'./IROUTPUTS_v2/OP{total_files}.txt', 'w') as  f:\n",
        "        # json.dump(freq_dict, f, cls=SetEncoder)\n",
        "        for word_id, docs in sorted_list:\n",
        "          f.write(word_id)\n",
        "          for doc_id in docs:\n",
        "            f.write(f' {doc_id}')\n",
        "          f.write('\\n')\n",
        "      current_block = 0\n",
        "      freq_dict.clear()\n",
        "      total_files += 1\n",
        "bsbi()"
      ],
      "execution_count": null,
      "outputs": []
    },
    {
      "cell_type": "code",
      "metadata": {
        "id": "LR9giUa6OK-2"
      },
      "source": [
        "file_names = [f'./IROUTPUTS_v2/OP{i}.txt' for i in range(10)]\n",
        "file_pointers = [open(i) for i in file_names]"
      ],
      "execution_count": null,
      "outputs": []
    },
    {
      "cell_type": "code",
      "metadata": {
        "id": "iYsC2XIkQZmm"
      },
      "source": [
        "\"\"\"\n",
        "This algo is called external merge\n",
        "In python I took help of heaps to do the merging\n",
        "A great answer of what I did is at this link,\n",
        "https://stackoverflow.com/questions/1001569/python-class-to-merge-sorted-files-how-can-this-be-improved\n",
        "^Make sure to take a look at this to see what we are really doing\n",
        "\n",
        "\"\"\"\n",
        "\n",
        "# here we are using yeild so we are JUST READING ONE LINE at a time\n",
        "# you can read more about it by searching generators in python\n",
        "def decorated_file(f, key):\n",
        "  for line in f:\n",
        "    yield (key(line), line)\n",
        "\n",
        "files = map(open, file_names)\n",
        "outfile = open('./IROUTPUTS_v2/merged.txt', 'w')\n",
        "\n",
        "def key_fn(line):\n",
        "    return line.split(' ', 2)[0] # returning word_id\n",
        "\n",
        "\"\"\"\n",
        "The simple sorting version would be like below\n",
        "\n",
        "for line in heapq.merge(*[decorated_file(f, keyfunc) for f in files]):\n",
        "    outfile.write(line[1])\n",
        "\n",
        "so if there'd be 2 files \n",
        "a 1 2 3\n",
        "b 3 4 5\n",
        "\n",
        "and \n",
        "\n",
        "a 6 7 8\n",
        "b 8 9 10\n",
        "\n",
        "o/p would be\n",
        "a 1 2 3\n",
        "a 6 7 8\n",
        "b 3 4 5\n",
        "b 8 9 10\n",
        "So I kind of did lil bit of modification to do what we want in one pass\n",
        "TIME: 6m 14s (for ~1k files of size ~620kb each)\n",
        "\"\"\"\n",
        "prev = ''\n",
        "for line in heapq.merge(*[decorated_file(f, key_fn) for f in files]):\n",
        "  # to understand this, you can do this over small number of sorted files and try to print line\n",
        "  if prev != line[0]:\n",
        "    # if we have new word, make sure to add new line at first\n",
        "    outfile.write(f'\\n{line[1].strip()}')\n",
        "    prev = line[0]\n",
        "  # if we have same word yet, put a space and add other ids\n",
        "  else:\n",
        "    # line[1][len(line[0]):] => We are removing the word_id string and then writing the line\n",
        "    outfile.write(f' {line[1][len(line[0]):].strip()}')\n",
        "for i in file_pointers:\n",
        "  i.close()\n",
        "outfile.close()"
      ],
      "execution_count": null,
      "outputs": []
    },
    {
      "cell_type": "code",
      "metadata": {
        "id": "9v-MWLgBLcM1"
      },
      "source": [
        "for i in file_pointers:\n",
        "  i.close()\n",
        "outfile.close()"
      ],
      "execution_count": null,
      "outputs": []
    },
    {
      "cell_type": "code",
      "metadata": {
        "id": "1FKPMFBuTmLa"
      },
      "source": [
        ""
      ],
      "execution_count": null,
      "outputs": []
    }
  ]
}